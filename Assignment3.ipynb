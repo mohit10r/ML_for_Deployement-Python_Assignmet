{
 "cells": [
  {
   "cell_type": "markdown",
   "metadata": {},
   "source": [
    "###                                                                    Task 1:"
   ]
  },
  {
   "cell_type": "markdown",
   "metadata": {},
   "source": [
    "#### Write a function to compute 5/0 and use try/except to catch the exceptions."
   ]
  },
  {
   "cell_type": "code",
   "execution_count": 2,
   "metadata": {},
   "outputs": [
    {
     "name": "stdout",
     "output_type": "stream",
     "text": [
      "Handling run-time error: division by zero\n"
     ]
    }
   ],
   "source": [
    "def dividebyzero():\n",
    "    x = 5/0\n",
    "try:\n",
    "    dividebyzero()\n",
    "except ZeroDivisionError as err:\n",
    "    print('Handling run-time error:', err)"
   ]
  },
  {
   "cell_type": "markdown",
   "metadata": {},
   "source": [
    "#### Implement a Python program to generate all sentences where subject is in [\"Americans\", \"Indians\"] and verb is in [\"Play\", \"watch\"] and the object is in [\"Baseball\",\"cricket\"]."
   ]
  },
  {
   "cell_type": "code",
   "execution_count": 46,
   "metadata": {},
   "outputs": [
    {
     "name": "stdout",
     "output_type": "stream",
     "text": [
      "Americans  play Baseball.\n",
      "Americans  play Cricket.\n",
      "Americans  watch Baseball.\n",
      "Americans  watch Cricket.\n",
      "Indians play Baseball.\n",
      "Indians play Cricket.\n",
      "Indians watch Baseball.\n",
      "Indians watch Cricket.\n"
     ]
    }
   ],
   "source": [
    "def printer(i,list,a):\n",
    "    if i==len(list):\n",
    "        print(' '.join(a))\n",
    "        return\n",
    "    if i>len(list):\n",
    "        return\n",
    "    for k in list[i]:\n",
    "        a[i]=k\n",
    "        printer(i+1,list,a)\n",
    "        \n",
    "list=[(\"Americans \",\"Indians\"),(\"play\",\"watch\"),(\"Baseball.\",\"Cricket.\")]\n",
    "a=[ '' for i in range(len(list)) ]\n",
    "printer(0,list,a)"
   ]
  },
  {
   "cell_type": "markdown",
   "metadata": {},
   "source": [
    "###                                                        ### Task 2:"
   ]
  },
  {
   "cell_type": "markdown",
   "metadata": {},
   "source": [
    "#### Write a function so that the columns of the output matrix are powers of the input vector."
   ]
  },
  {
   "cell_type": "code",
   "execution_count": 11,
   "metadata": {},
   "outputs": [
    {
     "name": "stdout",
     "output_type": "stream",
     "text": [
      "Enter the value of N : 3\n",
      "Enter the number of elements in the vector : 4\n",
      "Enter the vector element : 1\n",
      "Enter the vector element : 2\n",
      "Enter the vector element : 3\n",
      "Enter the vector element : 5\n",
      "The input vector : [1, 2, 3, 5]\n",
      "The output array :\n",
      "1 1 1\n",
      "4 2 1\n",
      "9 3 1\n",
      "25 5 1\n"
     ]
    }
   ],
   "source": [
    "def custom_vander(N,vec):\n",
    "        list1 = []\n",
    "        for ele in vec:\n",
    "            c=[ele**number for number in range(0,N)]\n",
    "            list1.append(c[::-1])\n",
    "        print(\"The output array :\")    \n",
    "        for s in list1:\n",
    "            print(*s)\n",
    "\n",
    "N = int(input(\"Enter the value of N : \"))\n",
    "vector = []\n",
    "count = int(input(\"Enter the number of elements in the vector : \"))\n",
    "for i in range(count):\n",
    "    element = int(input(\"Enter the vector element : \"))\n",
    "    vector.append(element)\n",
    "print(\"The input vector :\",vector)    \n",
    "\n",
    "\n",
    "custom_vander(N,vector)"
   ]
  }
 ],
 "metadata": {
  "kernelspec": {
   "display_name": "Python 3",
   "language": "python",
   "name": "python3"
  },
  "language_info": {
   "codemirror_mode": {
    "name": "ipython",
    "version": 3
   },
   "file_extension": ".py",
   "mimetype": "text/x-python",
   "name": "python",
   "nbconvert_exporter": "python",
   "pygments_lexer": "ipython3",
   "version": "3.7.3"
  }
 },
 "nbformat": 4,
 "nbformat_minor": 2
}
