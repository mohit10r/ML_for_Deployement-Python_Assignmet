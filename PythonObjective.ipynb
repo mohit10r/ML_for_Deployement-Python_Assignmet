{
 "cells": [
  {
   "cell_type": "markdown",
   "metadata": {},
   "source": [
    "Q1. How can we create an iterator object from a list?\n",
    "\n",
    "a) Bypassing the given list to the iter() function"
   ]
  },
  {
   "cell_type": "markdown",
   "metadata": {},
   "source": [
    "Q2. If the function contains at least of one “yield” statement, then it\n",
    "becomes ______\n",
    "\n",
    "b) a generator function"
   ]
  },
  {
   "cell_type": "markdown",
   "metadata": {},
   "source": [
    "Q3. What is the output of the code?\n",
    "\n",
    "b) 1 9\n"
   ]
  },
  {
   "cell_type": "markdown",
   "metadata": {},
   "source": [
    "Q4. What are the criteria that must be met to create closure in Python?\n",
    "\n",
    "d) All of the above."
   ]
  },
  {
   "cell_type": "markdown",
   "metadata": {},
   "source": [
    "Q5. What is the output of the code?\n",
    "\n",
    "d) 50"
   ]
  },
  {
   "cell_type": "markdown",
   "metadata": {},
   "source": [
    "Q6. What is the output of the code?\n",
    "\n",
    "c) I got decorated\n",
    "I am ordinary\n",
    "\n"
   ]
  },
  {
   "cell_type": "markdown",
   "metadata": {},
   "source": [
    "Q7: What is the more pythonic way to use getters and setters?\n",
    "\n",
    "d) @property    "
   ]
  },
  {
   "cell_type": "code",
   "execution_count": null,
   "metadata": {},
   "outputs": [],
   "source": [
    "Q8. In Python, there is a built-in function property() that returns a property object. The property object has which of the methods?\n",
    "\n",
    "b) getter(), setter() and delete()"
   ]
  },
  {
   "cell_type": "code",
   "execution_count": null,
   "metadata": {},
   "outputs": [],
   "source": [
    "Q9. Which of the following statement is true?\n",
    "\n",
    "b) Decorators don’t work with functions that take parameters."
   ]
  },
  {
   "cell_type": "code",
   "execution_count": null,
   "metadata": {},
   "outputs": [],
   "source": [
    "Q10.For the following codes, which of the following statements is true?\n",
    "\n",
    "b) Both printHello() and the reference to the same object.\n"
   ]
  },
  {
   "cell_type": "code",
   "execution_count": null,
   "metadata": {},
   "outputs": [],
   "source": [
    "Q11. What is the output of the program?\n",
    "c) a = 20\n"
   ]
  },
  {
   "cell_type": "code",
   "execution_count": null,
   "metadata": {},
   "outputs": [],
   "source": [
    "Q12. Which of the following statements is true?\n",
    "d) Neither statement is true."
   ]
  },
  {
   "cell_type": "code",
   "execution_count": null,
   "metadata": {},
   "outputs": [],
   "source": [
    "Q13. What is the output of the code?\n",
    "\n",
    "c) Java"
   ]
  },
  {
   "cell_type": "code",
   "execution_count": null,
   "metadata": {},
   "outputs": [],
   "source": [
    "Q14. What is the function of the __init__() function in Python?\n",
    "\n",
    "b) This function is called, when the new object is instantiated"
   ]
  },
  {
   "cell_type": "code",
   "execution_count": null,
   "metadata": {},
   "outputs": [],
   "source": [
    "Q15. What is the output of the code?\n",
    "\n",
    "b) 1 1"
   ]
  },
  {
   "cell_type": "code",
   "execution_count": null,
   "metadata": {},
   "outputs": [],
   "source": [
    "Q16. Which of the following code used the inheritance feature?\n",
    "\n",
    "c)\n",
    "1. class Foo:\n",
    "2. pass\n",
    "3. class Hoo(Foo):\n",
    "pass"
   ]
  },
  {
   "cell_type": "code",
   "execution_count": null,
   "metadata": {},
   "outputs": [],
   "source": [
    "Q17 If you a class is derived from two different classes, it’s called\n",
    "\n",
    "b) Multiple Inheritance"
   ]
  },
  {
   "cell_type": "code",
   "execution_count": null,
   "metadata": {},
   "outputs": [],
   "source": [
    "Q18. Which of the following statements is true?\n",
    "\n",
    "d) All of the above."
   ]
  },
  {
   "cell_type": "code",
   "execution_count": null,
   "metadata": {},
   "outputs": [],
   "source": [
    "Q19. What is the output of the code?\n",
    "\n",
    "b) 4 6"
   ]
  },
  {
   "cell_type": "code",
   "execution_count": null,
   "metadata": {},
   "outputs": [],
   "source": [
    "Q20. Opening a file in ‘a’ mode\n",
    "\n",
    "c) opens the file for appending, at the end of file"
   ]
  },
  {
   "cell_type": "code",
   "execution_count": null,
   "metadata": {},
   "outputs": [],
   "source": [
    "Q21. What does the following code do?\n",
    "\n",
    "b) Opens test.txt file for reading only"
   ]
  },
  {
   "cell_type": "code",
   "execution_count": null,
   "metadata": {},
   "outputs": [],
   "source": [
    "Q22. Which of the codes closes files automatically if an exception occurs?\n",
    "a) with open(\"test.txt\", encoding = 'utf-8') as f:\n",
    "    "
   ]
  },
  {
   "cell_type": "code",
   "execution_count": null,
   "metadata": {},
   "outputs": [],
   "source": [
    "Q23. For the following code,\n",
    "d) All of the above."
   ]
  },
  {
   "cell_type": "markdown",
   "metadata": {},
   "source": [
    "Q24. What does the following code do?\n",
    "c) Prints all the directories and files inside the given directory"
   ]
  },
  {
   "cell_type": "code",
   "execution_count": null,
   "metadata": {},
   "outputs": [],
   "source": [
    "Q25. Which of the following is correct?\n",
    "d) All of the above."
   ]
  },
  {
   "cell_type": "code",
   "execution_count": null,
   "metadata": {},
   "outputs": [],
   "source": [
    "Q26. What will happen if we try to open the file that doesn’t exist?\n",
    "c) An exception is raised."
   ]
  },
  {
   "cell_type": "code",
   "execution_count": null,
   "metadata": {},
   "outputs": [],
   "source": [
    "Q27. What is the output of the code?\n",
    "b) 2.0"
   ]
  },
  {
   "cell_type": "code",
   "execution_count": null,
   "metadata": {},
   "outputs": [],
   "source": [
    "Q28. What does the following code do?\n",
    "c) Prints Two if the TypeError or ZeroDivisionError exception occurs."
   ]
  },
  {
   "cell_type": "code",
   "execution_count": null,
   "metadata": {},
   "outputs": [],
   "source": [
    "Q29. Which of the following statement is true?\n",
    "b) You can create the user-defined exception by deriving a class from Exception class."
   ]
  },
  {
   "cell_type": "code",
   "execution_count": null,
   "metadata": {},
   "outputs": [],
   "source": [
    "Q30. Which of the following statement is true?\n",
    "c) The function is a piece of code that can perform a specific task.\n"
   ]
  },
  {
   "cell_type": "code",
   "execution_count": null,
   "metadata": {},
   "outputs": [],
   "source": [
    "Q31. What is the output of the code?\n",
    "b) Python is awesome."
   ]
  },
  {
   "cell_type": "code",
   "execution_count": null,
   "metadata": {},
   "outputs": [],
   "source": [
    "Q32. If the return statement is not used inside the function, the function will return:\n",
    "b) None object"
   ]
  },
  {
   "cell_type": "code",
   "execution_count": null,
   "metadata": {},
   "outputs": [],
   "source": [
    "Q33. What is the output of the code?\n",
    "\n",
    "b) Hello ('Frodo', 'Sauron')"
   ]
  },
  {
   "cell_type": "code",
   "execution_count": null,
   "metadata": {},
   "outputs": [],
   "source": [
    "Q34. What is a recursive function?\n",
    "b) A function that calls itself."
   ]
  },
  {
   "cell_type": "code",
   "execution_count": null,
   "metadata": {},
   "outputs": [],
   "source": [
    "Q35. What is the output of the program?\n",
    "c) 25"
   ]
  },
  {
   "cell_type": "code",
   "execution_count": null,
   "metadata": {},
   "outputs": [],
   "source": [
    "Q36. What is the output of the program?\n",
    "\n",
    "a)10"
   ]
  },
  {
   "cell_type": "code",
   "execution_count": null,
   "metadata": {},
   "outputs": [],
   "source": [
    "Q37. Suppose you need to print pi constant defined in the math module. Which of the following code can do this task?\n",
    "\n",
    "c)\n",
    "1. from math import pi\n",
    "2. print(pi)"
   ]
  },
  {
   "cell_type": "code",
   "execution_count": null,
   "metadata": {},
   "outputs": [],
   "source": [
    "Q38. Which operator is used in Python to import modules from the packages?\n",
    "\n",
    "a). operator"
   ]
  },
  {
   "cell_type": "code",
   "execution_count": null,
   "metadata": {},
   "outputs": [],
   "source": [
    "Q39. What is the output of the code?\n",
    "\n",
    "b) (1, 3, 6)"
   ]
  },
  {
   "cell_type": "code",
   "execution_count": null,
   "metadata": {},
   "outputs": [],
   "source": [
    "Q40. What is the output of the code?\n",
    "\n",
    "c) Nothing will be printed"
   ]
  },
  {
   "cell_type": "code",
   "execution_count": null,
   "metadata": {},
   "outputs": [],
   "source": [
    "Q41. The if-elif-else executes only one block of code among several blocks.\n",
    "\n",
    "a) True."
   ]
  },
  {
   "cell_type": "code",
   "execution_count": null,
   "metadata": {},
   "outputs": [],
   "source": [
    "Q42. What is the output of the code?\n",
    "\n",
    "a) 2\n",
    "1\n"
   ]
  },
  {
   "cell_type": "code",
   "execution_count": null,
   "metadata": {},
   "outputs": [],
   "source": [
    "Q43. In the Python, for and while loop can have the optional else statement?\n",
    "\n",
    "c) Both loops can have optional else statement"
   ]
  },
  {
   "cell_type": "code",
   "execution_count": null,
   "metadata": {},
   "outputs": [],
   "source": [
    "Q44. What is the output of the code?\n",
    "\n",
    "b) 10"
   ]
  },
  {
   "cell_type": "code",
   "execution_count": null,
   "metadata": {},
   "outputs": [],
   "source": [
    "Q45. What is the output of the code?\n",
    "\n",
    "c) 4 is printed infinitely until the program closes\n"
   ]
  },
  {
   "cell_type": "code",
   "execution_count": null,
   "metadata": {},
   "outputs": [],
   "source": [
    "Q46. Is it better to use the for loop instead of while if we are iterating through a sequence?\n",
    "\n",
    "b) Yes, for loop is more pythonic choice."
   ]
  },
  {
   "cell_type": "code",
   "execution_count": null,
   "metadata": {},
   "outputs": [],
   "source": [
    "Q47. Which of the following statement is true?\n",
    "\n",
    "d) All of the above."
   ]
  },
  {
   "cell_type": "code",
   "execution_count": null,
   "metadata": {},
   "outputs": [],
   "source": [
    "Q48. What is the output of the code?\n",
    "\n",
    "c) PYTHN"
   ]
  },
  {
   "cell_type": "code",
   "execution_count": null,
   "metadata": {},
   "outputs": [],
   "source": [
    "Q49. Which of the statement is true about the “pass” statement?\n",
    "\n",
    "d) All of the above."
   ]
  },
  {
   "cell_type": "code",
   "execution_count": null,
   "metadata": {},
   "outputs": [],
   "source": [
    "Q50. In regards to separated value files such as .csv and .tsv, what is the delimiter?\n",
    "\n",
    "c) Any character such as the comma (,) or tab (\\t) that is used to separate the column data."
   ]
  },
  {
   "cell_type": "code",
   "execution_count": null,
   "metadata": {},
   "outputs": [],
   "source": [
    "Q51. In separated value files such as .csv and .tsv, what does the first row in the file typically contain?\n",
    "\n",
    "a) The column names of the data.\n"
   ]
  },
  {
   "cell_type": "code",
   "execution_count": null,
   "metadata": {},
   "outputs": [],
   "source": [
    "Q52. Assume you have a file object my_data, which has properly opened a separated value file that uses the tab character (\\t) as the\n",
    "delimiter. What is the proper way to open the file using the Python CSV module and assign it to the variable csv_reader?\n",
    "\n",
    "b) csv.reader(my_data, delimiter='\\t')"
   ]
  },
  {
   "cell_type": "code",
   "execution_count": null,
   "metadata": {},
   "outputs": [],
   "source": [
    "Q53. When iterating over an object returned from csv.reader(), what is returned with each iteration?\n",
    "\n",
    "b) The row data as a list"
   ]
  },
  {
   "cell_type": "code",
   "execution_count": null,
   "metadata": {},
   "outputs": [],
   "source": [
    "Q54. When writing to a CSV file using the .writerow() method of the csv.DictWriter object, what must each key in the input dict represent? Below is an example:\n",
    "    \n",
    "c)Each key must match up to the field names (column names) used to identify the column data"
   ]
  },
  {
   "cell_type": "code",
   "execution_count": null,
   "metadata": {},
   "outputs": [],
   "source": [
    "Q55. Which is the correct way to open the CSV file hrdata.csv for reading using the pandas package? Assume that the pandas package has already been imported.\n",
    "\n",
    "c) pandas.read_csv('hrdata.csv')"
   ]
  },
  {
   "cell_type": "code",
   "execution_count": null,
   "metadata": {},
   "outputs": [],
   "source": [
    "Q56. By default, pandas uses 0-based indices for indexing rows. Which is the correct way to import the CSV file hrdata.csv for reading and using the 'Name' column as the index row instead?\n",
    "\n",
    "a) pandas.read_csv('hrdata.csv', index_col='Name')"
   ]
  },
  {
   "cell_type": "code",
   "execution_count": null,
   "metadata": {},
   "outputs": [],
   "source": [
    "Q57. Given the file dog_breeds.txt, which of the following is the correct way to open the file for reading as a text file? Select all that apply.\n",
    "\n",
    "b) open('dog_breeds.txt', 'r')\n",
    "c) open('dog_breeds.txt')"
   ]
  },
  {
   "cell_type": "code",
   "execution_count": null,
   "metadata": {},
   "outputs": [],
   "source": [
    "Q58. Given the following directory structure: Assuming that the cwd is in the root folder where animals reside, what is the full path to\n",
    "the feline folder?\n",
    "\n",
    "animals/feline"
   ]
  },
  {
   "cell_type": "code",
   "execution_count": null,
   "metadata": {},
   "outputs": [],
   "source": [
    "Q59. Given the file jack_russell.png, which of the following is the correct way to open the file for reading as a buffered binary file? Select\n",
    "all that apply.\n",
    "\n",
    "a) open('jack_russell.png', 'rb')"
   ]
  },
  {
   "cell_type": "code",
   "execution_count": null,
   "metadata": {},
   "outputs": [],
   "source": [
    "Q60. Assuming that the cwd is in the root folder where Animals reside, what is the full path to\n",
    "the file bears.gif?\n",
    "\n",
    "animals/ursine/bears.gif"
   ]
  },
  {
   "cell_type": "code",
   "execution_count": null,
   "metadata": {},
   "outputs": [],
   "source": [
    "Q61. Whenever possible, what is the recommended way to ensure that a file object is properly closed after usage?\n",
    "\n",
    "d) By using the with statement"
   ]
  },
  {
   "cell_type": "code",
   "execution_count": null,
   "metadata": {},
   "outputs": [],
   "source": [
    "Q62. Assuming that the cwd is in the feline folder, what is the relative path to the\n",
    "file bears.gif?\n",
    "\n",
    "../ursine/bears.gif"
   ]
  },
  {
   "cell_type": "code",
   "execution_count": null,
   "metadata": {},
   "outputs": [],
   "source": [
    "Q63. When reading a file using the file object, what method is best for reading the entire file into a single string?\n",
    "\n",
    "b) .read()"
   ]
  },
  {
   "cell_type": "code",
   "execution_count": null,
   "metadata": {},
   "outputs": [],
   "source": [
    "Q64. The value 1.73 rounded to one decimal place using the “rounding up” strategy is...\n",
    "\n",
    "a) 1.8"
   ]
  },
  {
   "cell_type": "code",
   "execution_count": null,
   "metadata": {},
   "outputs": [],
   "source": [
    "Q65. The value -2.961 rounded to two decimal places using the “rounding down” strategy is...\n",
    "\n",
    "b) -2.97"
   ]
  },
  {
   "cell_type": "code",
   "execution_count": null,
   "metadata": {},
   "outputs": [],
   "source": [
    "Q66. When a value is truncated to 3 decimal places, which of the following is true?\n",
    "\n",
    "a) Positive numbers are rounded up, and negative numbers are rounded down."
   ]
  },
  {
   "cell_type": "code",
   "execution_count": null,
   "metadata": {},
   "outputs": [],
   "source": [
    "Q67. The value -0.045 rounded to 2 decimal places using the “round half away from zero” strategy is...\n",
    "\n",
    "a)0.05"
   ]
  },
  {
   "cell_type": "code",
   "execution_count": null,
   "metadata": {},
   "outputs": [],
   "source": [
    "Q68. Which rounding strategy does Python’s built-in round() function use?\n",
    "\n",
    "d) Round half to even"
   ]
  },
  {
   "cell_type": "code",
   "execution_count": null,
   "metadata": {},
   "outputs": [],
   "source": [
    "Q69. The value 4.65 rounded to one decimal place using the “round half to even” strategy is...\n",
    "\n",
    "b) 4.7\n"
   ]
  },
  {
   "cell_type": "code",
   "execution_count": null,
   "metadata": {},
   "outputs": [],
   "source": [
    "Q70. Which problem arises due to the multiple inheritances, if hierarchical inheritance is used previously for its base classes?\n",
    "\n",
    "a) Diamond"
   ]
  },
  {
   "cell_type": "code",
   "execution_count": null,
   "metadata": {},
   "outputs": [],
   "source": [
    "Q71. How many classes should a program contain to implement the multiple inheritances?\n",
    "\n",
    "c) At least 3"
   ]
  },
  {
   "cell_type": "code",
   "execution_count": null,
   "metadata": {},
   "outputs": [],
   "source": [
    "Q72. If class a inherits class b and class c as “class a: public class b,public class c {// class body ;}; ”, which class constructor will be called first?\n",
    "   \n",
    "b) Class b."
   ]
  },
  {
   "cell_type": "code",
   "execution_count": null,
   "metadata": {},
   "outputs": [],
   "source": [
    "Q73.If all the members of all base classes are private then,\n",
    "a) There won’t be any use of multiple inheritance"
   ]
  },
  {
   "cell_type": "code",
   "execution_count": null,
   "metadata": {},
   "outputs": [],
   "source": [
    "Q74. Can the derived class be made abstract if multiple inheritance is used?\n",
    "d) No, since constructors won’t be there"
   ]
  },
  {
   "cell_type": "code",
   "execution_count": null,
   "metadata": {},
   "outputs": [],
   "source": [
    "Q75. Which among the following best defines the multilevel inheritance?\\\n",
    "b) Classes being derived from other derived classes"
   ]
  },
  {
   "cell_type": "code",
   "execution_count": null,
   "metadata": {},
   "outputs": [],
   "source": [
    "Q76. If there are 5 classes, E is derived from D, D from C, C from B and B from A. Which class constructor will be called first if the object of\n",
    "E or D is created?\n",
    "a) A"
   ]
  },
  {
   "cell_type": "code",
   "execution_count": null,
   "metadata": {},
   "outputs": [],
   "source": [
    "Q77. Which Class is having the highest degree of abstraction in multilevel inheritance of 5 levels?\n",
    "a) Class at 1st level"
   ]
  },
  {
   "cell_type": "code",
   "execution_count": null,
   "metadata": {},
   "outputs": [],
   "source": [
    "Q78. Multilevel inheritance allows _________________ in the program.\n",
    "d) As many levels of inheritance as required"
   ]
  },
  {
   "cell_type": "code",
   "execution_count": null,
   "metadata": {},
   "outputs": [],
   "source": [
    "Q79. If all the classes used parameterized constructors and no default constructor then, ___________\n",
    "c) Object of lower-level classes must define all the default constructors"
   ]
  },
  {
   "cell_type": "code",
   "execution_count": null,
   "metadata": {},
   "outputs": [],
   "source": [
    "Q80. Which is the universal exception handler class?\n",
    "d) Exceptions"
   ]
  },
  {
   "cell_type": "code",
   "execution_count": null,
   "metadata": {},
   "outputs": [],
   "source": [
    "Q81. What are two exception classes in the hierarchy of java exceptions class?\n",
    "c) Runtime exceptions and other exceptions"
   ]
  },
  {
   "cell_type": "code",
   "execution_count": null,
   "metadata": {},
   "outputs": [],
   "source": [
    "Q82. Which are the two blocks that are used to check error and handle the error?\n",
    "a) Try and catch"
   ]
  },
  {
   "cell_type": "code",
   "execution_count": null,
   "metadata": {},
   "outputs": [],
   "source": [
    "Q83. To catch the exceptions ___________________\n",
    "a) An object must be created to catch the exception"
   ]
  },
  {
   "cell_type": "code",
   "execution_count": null,
   "metadata": {},
   "outputs": [],
   "source": [
    "Q84. Which class is used to handle the input and output exceptions?\n",
    "c) IOExceptions"
   ]
  },
  {
   "cell_type": "code",
   "execution_count": null,
   "metadata": {},
   "outputs": [],
   "source": [
    "Q85. Which among the following is true for the class exceptions?\n",
    "\n",
    "d) Both base class and derived class may produce exceptions"
   ]
  },
  {
   "cell_type": "code",
   "execution_count": null,
   "metadata": {},
   "outputs": [],
   "source": [
    "Q86. If both base and derived class caught the exceptions, _____.\n",
    "a) Then catch block of a derived class must be defined before the base class\n"
   ]
  },
  {
   "cell_type": "code",
   "execution_count": null,
   "metadata": {},
   "outputs": [],
   "source": [
    "Q87. The catching of base class the exception _________ in java.\n",
    "\n",
    "b) Before derived class is not allowed by the compiler"
   ]
  },
  {
   "cell_type": "code",
   "execution_count": null,
   "metadata": {},
   "outputs": [],
   "source": [
    "Q88. Which of the following handles the undefined class in the program?\n",
    "\n",
    "d) ClassNotFoundException"
   ]
  },
  {
   "cell_type": "code",
   "execution_count": null,
   "metadata": {},
   "outputs": [],
   "source": [
    "Q89. Which among the following is true?\n",
    "\n",
    "c) Both the base and derived class catch the blocks are important."
   ]
  },
  {
   "cell_type": "code",
   "execution_count": null,
   "metadata": {},
   "outputs": [],
   "source": [
    "Q90. Which condition among the following might result in memory exception?\n",
    "\n",
    "c) Infinite loops"
   ]
  },
  {
   "cell_type": "code",
   "execution_count": null,
   "metadata": {},
   "outputs": [],
   "source": [
    "Q91. Which among the following is the correct definition for static member functions?\n",
    "\n",
    "b) Functions made to maintain a single copy of member functions for all the objects"
   ]
  },
  {
   "cell_type": "code",
   "execution_count": null,
   "metadata": {},
   "outputs": [],
   "source": [
    "Q92. The static member functions __________________\n",
    "\n",
    "d) Created and initialised, only once"
   ]
  },
  {
   "cell_type": "code",
   "execution_count": null,
   "metadata": {},
   "outputs": [],
   "source": [
    "Q95. Which among the following is true?\n",
    "\n",
    "b) Static member functions can’t be overloaded."
   ]
  },
  {
   "cell_type": "code",
   "execution_count": null,
   "metadata": {},
   "outputs": [],
   "source": [
    "Q96. The static member functions _______________\n",
    "\n",
    "d) Can’t be declared const, volatile or const volatile\n"
   ]
  },
  {
   "cell_type": "code",
   "execution_count": null,
   "metadata": {},
   "outputs": [],
   "source": [
    "Q97. Which among the following can’t be used to access the members in anyway?\n",
    "\n",
    "c) Single colon."
   ]
  },
  {
   "cell_type": "code",
   "execution_count": null,
   "metadata": {},
   "outputs": [],
   "source": [
    "Q98. If static data member are made inline, ______________\n",
    "\n",
    "c) Those can be initialised within the class."
   ]
  },
  {
   "cell_type": "code",
   "execution_count": null,
   "metadata": {},
   "outputs": [],
   "source": [
    "Q99. The static data member _________________\n",
    "\n",
    "b) Can’t be mutable."
   ]
  },
  {
   "cell_type": "code",
   "execution_count": null,
   "metadata": {},
   "outputs": [],
   "source": [
    "Q100. We can use the static member functions and static data member\n",
    "\n",
    "a) Even if a class object is not created"
   ]
  },
  {
   "cell_type": "code",
   "execution_count": null,
   "metadata": {},
   "outputs": [],
   "source": [
    "Q101. Point out the wrong statement:\n",
    "    \n",
    "c) rPy provides lots of scientific routines that work on top of NumPy.    "
   ]
  },
  {
   "cell_type": "code",
   "execution_count": null,
   "metadata": {},
   "outputs": [],
   "source": [
    "Q102. The ________ function returns its argument with the modified shape, whereas the ________ method modifies the array itself\n",
    "\n",
    "a) reshape, resize\n"
   ]
  },
  {
   "cell_type": "code",
   "execution_count": null,
   "metadata": {},
   "outputs": [],
   "source": [
    "Q103. To create sequences of the numbers, NumPy provides a function __________ analogous to range that returns arrays instead of lists.\n",
    "\n",
    "a) arange."
   ]
  },
  {
   "cell_type": "code",
   "execution_count": null,
   "metadata": {},
   "outputs": [],
   "source": [
    "Q104. Point out the correct statement:\n",
    "d) All of the Mentioned"
   ]
  },
  {
   "cell_type": "code",
   "execution_count": null,
   "metadata": {},
   "outputs": [],
   "source": [
    "Q105. Which of the following function stack 1D array as the columns into the 2D array?\n",
    "\n",
    "b) column_stack."
   ]
  },
  {
   "cell_type": "code",
   "execution_count": null,
   "metadata": {},
   "outputs": [],
   "source": [
    "Q106. ndarray is also known as an alias array.\n",
    "\n",
    "a) True"
   ]
  },
  {
   "cell_type": "code",
   "execution_count": null,
   "metadata": {},
   "outputs": [],
   "source": [
    "Q107. Which of the following method creates the new array object that looks at the same data?\n",
    "\n",
    "a) view."
   ]
  },
  {
   "cell_type": "code",
   "execution_count": null,
   "metadata": {},
   "outputs": [],
   "source": [
    "Q108. Which of the functions can be used to combine the different vectors to obtain the result for each n-uplet?\n",
    "b) ix_."
   ]
  },
  {
   "cell_type": "code",
   "execution_count": null,
   "metadata": {},
   "outputs": [],
   "source": [
    "Q109. ndarray.dataitemSize is the buffer containing actual elements of an array.\n",
    "a) True"
   ]
  },
  {
   "cell_type": "code",
   "execution_count": null,
   "metadata": {},
   "outputs": [],
   "source": [
    "Q110. Which of the following is in the NumPy library?\n",
    "d) all of the Mentioned"
   ]
  },
  {
   "cell_type": "markdown",
   "metadata": {},
   "source": [
    "Q111. Which of the following sets the size of the buffer used in ufuncs ?\n",
    "\n",
    "c) setbufsize(size)\n"
   ]
  },
  {
   "cell_type": "code",
   "execution_count": null,
   "metadata": {},
   "outputs": [],
   "source": [
    "Q112. Point out the wrong statement:\n",
    "b) In Numpy, universal functions are the instances of numpy.ufunction class"
   ]
  },
  {
   "cell_type": "code",
   "execution_count": null,
   "metadata": {},
   "outputs": [],
   "source": [
    "Q113. Which of the following attribute should be used while checking the type combination input and output?\n",
    "\n",
    "a) .types"
   ]
  },
  {
   "cell_type": "code",
   "execution_count": null,
   "metadata": {},
   "outputs": [],
   "source": [
    "Q114. Which of the following returns an array of “ones” with the same shape and type as a given array?\n",
    "b) ones_like"
   ]
  },
  {
   "cell_type": "code",
   "execution_count": null,
   "metadata": {},
   "outputs": [],
   "source": [
    "Q115. Point out the wrong statement:\n",
    "\n",
    "c) The output of the ufunc is necessarily a ndarray, if all the input arguments are\n",
    "ndarrays    "
   ]
  },
  {
   "cell_type": "code",
   "execution_count": null,
   "metadata": {},
   "outputs": [],
   "source": [
    "Q116. Which of the following set of a floating-point error callback function or a log object?\n",
    "\n",
    "b) settercall."
   ]
  },
  {
   "cell_type": "code",
   "execution_count": null,
   "metadata": {},
   "outputs": [],
   "source": [
    "Q117. Some ufuncs can take output arguments.\n",
    "\n",
    "b) False"
   ]
  },
  {
   "cell_type": "code",
   "execution_count": null,
   "metadata": {},
   "outputs": [],
   "source": [
    "Q118. ___________ decompose the elements of x into the mantissa and the two’s exponent.\n",
    "\n",
    "c) frexp"
   ]
  },
  {
   "cell_type": "code",
   "execution_count": null,
   "metadata": {},
   "outputs": [],
   "source": [
    "Q119. Which of the following function take the only a single value as input?\n",
    "\n",
    "a) iscomplex."
   ]
  },
  {
   "cell_type": "code",
   "execution_count": null,
   "metadata": {},
   "outputs": [],
   "source": [
    "Q120. The array object returned by the _array_prepare_ is passed to ufunc for computation.\n",
    "\n",
    "a) True"
   ]
  },
  {
   "cell_type": "code",
   "execution_count": null,
   "metadata": {},
   "outputs": [],
   "source": [
    "Q121. All pandas data structures are ___mutable but not always _______-mutable.\n",
    "\n",
    "c) value,size."
   ]
  },
  {
   "cell_type": "code",
   "execution_count": null,
   "metadata": {},
   "outputs": [],
   "source": [
    "Q122. Point out the correct statement:\n",
    "\n",
    "d) All of the above mentioned."
   ]
  },
  {
   "cell_type": "code",
   "execution_count": null,
   "metadata": {},
   "outputs": [],
   "source": [
    "Q123. Which of the following statement will import the pandas?\n",
    "a) import pandas as pd"
   ]
  },
  {
   "cell_type": "code",
   "execution_count": null,
   "metadata": {},
   "outputs": [],
   "source": [
    "Q124. Which of the following object did we get after reading the CSV file?\n",
    "\n",
    "a) DataFrame"
   ]
  },
  {
   "cell_type": "code",
   "execution_count": null,
   "metadata": {},
   "outputs": [],
   "source": [
    "Q125. Point out the wrong statement:\n",
    "c) The panel is generally 2D labelled, also a size-mutable array."
   ]
  },
  {
   "cell_type": "code",
   "execution_count": null,
   "metadata": {},
   "outputs": [],
   "source": [
    "Q126. Which of the following library is similar to the pandas?\n",
    "a) numpy"
   ]
  },
  {
   "cell_type": "code",
   "execution_count": null,
   "metadata": {},
   "outputs": [],
   "source": [
    "Q127. Panel is a container for the Series, and DataFrame is a container for DataFrame objects.\n",
    "\n",
    "b) False"
   ]
  },
  {
   "cell_type": "code",
   "execution_count": null,
   "metadata": {},
   "outputs": [],
   "source": [
    "Q128. Which of the following is the prominent python “statistics and econometrics library”?\n",
    "\n",
    "c) Statsmodels"
   ]
  },
  {
   "cell_type": "code",
   "execution_count": null,
   "metadata": {},
   "outputs": [],
   "source": [
    "Q129. Which of the following is the foundational exploratory visualisation package for the R language in the pandas ecosystem?\n",
    "\n",
    "a) yhat."
   ]
  },
  {
   "cell_type": "code",
   "execution_count": null,
   "metadata": {},
   "outputs": [],
   "source": [
    "Q130. Pandas consist of static and the moving window linear and panel regression.\n",
    "\n",
    "a) True"
   ]
  },
  {
   "cell_type": "code",
   "execution_count": null,
   "metadata": {},
   "outputs": [],
   "source": [
    "Q131. Quandl API for Python wraps the __ REST API to returns the pandas DataFrames with time series indexes.\n",
    "\n",
    "a) Quandl."
   ]
  },
  {
   "cell_type": "code",
   "execution_count": null,
   "metadata": {},
   "outputs": [],
   "source": [
    "Q132. Point out the correct statement:\n",
    "\n",
    "a) Statsmodels provides powerful statistics, econometrics, analysis and the modelling functionality which is out of pandas’ scope    "
   ]
  },
  {
   "cell_type": "code",
   "execution_count": null,
   "metadata": {},
   "outputs": [],
   "source": [
    "Q133.Which of the following library is used to retrieve and to acquire statistical data and metadata disseminated in SDMX 2.1?\n",
    "\n",
    "a) pandaSDMX"
   ]
  },
  {
   "cell_type": "code",
   "execution_count": null,
   "metadata": {},
   "outputs": [],
   "source": [
    "Q134. Which of the following provides the standard API for doing computations with MongoDB?\n",
    "\n",
    "a) Blaze"
   ]
  },
  {
   "cell_type": "code",
   "execution_count": null,
   "metadata": {},
   "outputs": [],
   "source": [
    "Q135. Point out the wrong statement:\n",
    "\n",
    "c) Spyder is a cross-platform Qt-based open-source R IDE    "
   ]
  },
  {
   "cell_type": "code",
   "execution_count": null,
   "metadata": {},
   "outputs": [],
   "source": [
    "Q136. Which of the following makes use of the pandas and returns data in a Series or DataFrame?\n",
    "\n",
    "b) freedapi."
   ]
  },
  {
   "cell_type": "code",
   "execution_count": null,
   "metadata": {},
   "outputs": [],
   "source": [
    "Q137. Spyder can introspect and display Pandas DataFrames.\n",
    "\n",
    "b) False"
   ]
  },
  {
   "cell_type": "code",
   "execution_count": null,
   "metadata": {},
   "outputs": [],
   "source": [
    "Q138. Which of the following is used for machine learning in the python?\n",
    "\n",
    "a) sci-kit-learn."
   ]
  },
  {
   "cell_type": "markdown",
   "metadata": {},
   "source": [
    "Q139. The ________ project builds on top of the pandas and matplotlib to provide easy plotting of data.\n",
    "\n",
    "b) Seaborn.\n"
   ]
  },
  {
   "cell_type": "code",
   "execution_count": null,
   "metadata": {},
   "outputs": [],
   "source": [
    "Q140 x-ray brings the labelled data power of pandas to the physical sciences.\n",
    "\n",
    "a) True"
   ]
  },
  {
   "cell_type": "code",
   "execution_count": null,
   "metadata": {},
   "outputs": [],
   "source": [
    "Q141. Which of the following is the base layer of all of the sparse has it indexed data structures?\n",
    "\n",
    "b) SparseArray."
   ]
  },
  {
   "cell_type": "code",
   "execution_count": null,
   "metadata": {},
   "outputs": [],
   "source": [
    "Q142. Point out the correct statement.\n",
    "\n",
    "d) All of the mentioned."
   ]
  },
  {
   "cell_type": "code",
   "execution_count": null,
   "metadata": {},
   "outputs": [],
   "source": [
    "Q143. Which of the following is not an indexed object?\n",
    "\n",
    "d) None of the mentioned."
   ]
  },
  {
   "cell_type": "code",
   "execution_count": null,
   "metadata": {},
   "outputs": [],
   "source": [
    "Q144. Which of the following list like data structure is used for managing the dynamic collection of SparseArrays?\n",
    "\n",
    "a) SparseList\n"
   ]
  },
  {
   "cell_type": "code",
   "execution_count": null,
   "metadata": {},
   "outputs": [],
   "source": [
    "Q145. Point out the wrong statement.\n",
    "\n",
    "a) to_array. append can accept scalar values or any 2-dimensional sequence\n"
   ]
  },
  {
   "cell_type": "code",
   "execution_count": null,
   "metadata": {},
   "outputs": [],
   "source": [
    "Q146. Which of the following method used for transforming the Sparse-series index by the MultiIndex to a\n",
    "scipy.sparse.coo_matrix?\n",
    "\n",
    "a) SparseSeries.to_coo()\n"
   ]
  },
  {
   "cell_type": "code",
   "execution_count": null,
   "metadata": {},
   "outputs": [],
   "source": [
    "Q147. The integer format tracks only the locations and the sizes of blocks of data.\n",
    "\n",
    "b) False"
   ]
  },
  {
   "cell_type": "code",
   "execution_count": null,
   "metadata": {},
   "outputs": [],
   "source": [
    "Q148. Which of the following is used for the testing for membership in the list of column names?\n",
    "\n",
    "a) in"
   ]
  },
  {
   "cell_type": "code",
   "execution_count": null,
   "metadata": {},
   "outputs": [],
   "source": [
    "Q149. Which of the following indexing capabilities is used as the concise means of selecting data from a pandas object?\n",
    "\n",
    "b) ix"
   ]
  },
  {
   "cell_type": "markdown",
   "metadata": {},
   "source": [
    "Q150. Pandas follow the NumPy convention of raising an error when you try to convert something to a bool.\n",
    "\n",
    "a) True"
   ]
  },
  {
   "cell_type": "code",
   "execution_count": null,
   "metadata": {},
   "outputs": [],
   "source": []
  }
 ],
 "metadata": {
  "kernelspec": {
   "display_name": "Python 3",
   "language": "python",
   "name": "python3"
  },
  "language_info": {
   "codemirror_mode": {
    "name": "ipython",
    "version": 3
   },
   "file_extension": ".py",
   "mimetype": "text/x-python",
   "name": "python",
   "nbconvert_exporter": "python",
   "pygments_lexer": "ipython3",
   "version": "3.7.3"
  }
 },
 "nbformat": 4,
 "nbformat_minor": 2
}
